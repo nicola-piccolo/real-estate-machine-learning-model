{
 "cells": [
  {
   "cell_type": "markdown",
   "id": "bulgarian-florence",
   "metadata": {},
   "source": [
    "Goal of this exercise is to predict a property price. First of all, let's load the housing data."
   ]
  },
  {
   "cell_type": "code",
   "execution_count": 1,
   "id": "athletic-contributor",
   "metadata": {},
   "outputs": [],
   "source": [
    "import pandas as pd\n",
    "\n",
    "def load_data():\n",
    "    csv_path = \"housing.csv\"\n",
    "    return pd.read_csv(csv_path)"
   ]
  },
  {
   "cell_type": "code",
   "execution_count": 2,
   "id": "placed-islam",
   "metadata": {},
   "outputs": [],
   "source": [
    "housing = load_data()"
   ]
  },
  {
   "cell_type": "markdown",
   "id": "initial-triple",
   "metadata": {},
   "source": [
    "I found that \"Suburb\" and \"Postalcode\" were in a 1:1 relation so I will keep only the latter.\n",
    "\n",
    "Also, for my purpose, I won't need also \"SellerG\", \"Address\" (I can use latitude and longitude instead), \"Method\" (again, I am trying to predict only the price), \"CouncilArea\" (I would like to use the suburb as geographical unit) and \"Regionname\" (it is an aggregation of postal codes).\n",
    "\n",
    "\"Bathroom\" is not a selling point, as well the \"YearBuilt\" (which has also a lot of null values).\n",
    "\n",
    "\"Landsize\" and \"BuildingArea\" are also plagued by empty values and I don not honestly understand the correlation between them: I was expecting the former to be greater than the latter but they are in all the possible correlations.\n",
    "\n",
    "I am not sure about \"Date\", since I am trying to predict the price without any regards to the purchase date. For this purpose it is not really useful.\n",
    "\n",
    "For these reasons, they add more noise than information, so will drop them too."
   ]
  },
  {
   "cell_type": "code",
   "execution_count": 3,
   "id": "phantom-ethernet",
   "metadata": {},
   "outputs": [],
   "source": [
    "housing.drop(['Suburb', 'Address', 'Regionname', 'Method', 'SellerG', 'CouncilArea', 'Lattitude', 'Longtitude', 'Bathroom', 'Car', 'Landsize', 'BuildingArea', 'YearBuilt', 'Date'], inplace=True, axis=1)"
   ]
  },
  {
   "cell_type": "markdown",
   "id": "dimensional-sydney",
   "metadata": {},
   "source": [
    "Since I want to predict prices, if a row does not carry any price, it is pointless to keep it."
   ]
  },
  {
   "cell_type": "code",
   "execution_count": 4,
   "id": "advised-cosmetic",
   "metadata": {},
   "outputs": [],
   "source": [
    "housing.dropna(subset=['Price'], inplace=True, axis=0)"
   ]
  },
  {
   "cell_type": "markdown",
   "id": "empirical-humanity",
   "metadata": {},
   "source": [
    "Let's now check the remaining columns with null values:"
   ]
  },
  {
   "cell_type": "code",
   "execution_count": 5,
   "id": "postal-practitioner",
   "metadata": {},
   "outputs": [
    {
     "name": "stdout",
     "output_type": "stream",
     "text": [
      "Distance            1\n",
      "Postcode            1\n",
      "Bedroom2         6441\n",
      "Propertycount       3\n",
      "dtype: int64\n"
     ]
    }
   ],
   "source": [
    "emptyValues = housing.isnull().sum()\n",
    "print(emptyValues[emptyValues > 0])"
   ]
  },
  {
   "cell_type": "markdown",
   "id": "handmade-station",
   "metadata": {},
   "source": [
    "I think I will fix these columns in this way:\n",
    "* Distance, PostCode and Propertycount have a few rows each with missing values. Will drop those rows.\n",
    "* Bedroom2 is scraped from other sources, so no suprises that it is not always filled in. However, I have noticed that there is a certain correlation between the attributes \"Rooms\" and \"Bedroom2\". Let's try to visualize it."
   ]
  },
  {
   "cell_type": "code",
   "execution_count": 6,
   "id": "worse-growing",
   "metadata": {},
   "outputs": [],
   "source": [
    "housing.dropna(subset=['Distance', 'Postcode', 'Propertycount'], inplace=True, axis=0)"
   ]
  },
  {
   "cell_type": "code",
   "execution_count": 7,
   "id": "weekly-jenny",
   "metadata": {},
   "outputs": [
    {
     "data": {
      "text/plain": [
       "<AxesSubplot:>"
      ]
     },
     "execution_count": 7,
     "metadata": {},
     "output_type": "execute_result"
    },
    {
     "data": {
      "image/png": "[encoded data removed]",
      "text/plain": [
       "<Figure size 432x288 with 1 Axes>"
      ]
     },
     "metadata": {
      "needs_background": "light"
     },
     "output_type": "display_data"
    }
   ],
   "source": [
    "differenceRoomsAndBedrooms = housing['Rooms']-housing['Bedroom2']\n",
    "differenceRoomsAndBedrooms.hist()"
   ]
  },
  {
   "cell_type": "markdown",
   "id": "forced-start",
   "metadata": {},
   "source": [
    "As expected, the number of rooms is basically counting the number of bedrooms: we can therefore simplify even further by dropping also the \"Bedroom2\" column."
   ]
  },
  {
   "cell_type": "code",
   "execution_count": 8,
   "id": "upper-suicide",
   "metadata": {},
   "outputs": [],
   "source": [
    "housing.drop(['Bedroom2'], inplace=True, axis=1)\n"
   ]
  },
  {
   "cell_type": "markdown",
   "id": "everyday-capacity",
   "metadata": {},
   "source": [
    "The next attribute to correct is \"Type\", since right now it is just a plain string.\n",
    "\n",
    "I will apply a one hot encoder to it, so that it will generate three bolean columns."
   ]
  },
  {
   "cell_type": "code",
   "execution_count": 9,
   "id": "turkish-confidentiality",
   "metadata": {},
   "outputs": [
    {
     "data": {
      "text/html": [
       "<div>\n",
       "<style scoped>\n",
       "    .dataframe tbody tr th:only-of-type {\n",
       "        vertical-align: middle;\n",
       "    }\n",
       "\n",
       "    .dataframe tbody tr th {\n",
       "        vertical-align: top;\n",
       "    }\n",
       "\n",
       "    .dataframe thead th {\n",
       "        text-align: right;\n",
       "    }\n",
       "</style>\n",
       "<table border=\"1\" class=\"dataframe\">\n",
       "  <thead>\n",
       "    <tr style=\"text-align: right;\">\n",
       "      <th></th>\n",
       "      <th>Rooms</th>\n",
       "      <th>Price</th>\n",
       "      <th>Distance</th>\n",
       "      <th>Postcode</th>\n",
       "      <th>Propertycount</th>\n",
       "      <th>h</th>\n",
       "      <th>t</th>\n",
       "      <th>u</th>\n",
       "    </tr>\n",
       "  </thead>\n",
       "  <tbody>\n",
       "    <tr>\n",
       "      <th>1</th>\n",
       "      <td>2</td>\n",
       "      <td>1480000.0</td>\n",
       "      <td>2.5</td>\n",
       "      <td>3067.0</td>\n",
       "      <td>4019.0</td>\n",
       "      <td>1</td>\n",
       "      <td>0</td>\n",
       "      <td>0</td>\n",
       "    </tr>\n",
       "    <tr>\n",
       "      <th>2</th>\n",
       "      <td>2</td>\n",
       "      <td>1035000.0</td>\n",
       "      <td>2.5</td>\n",
       "      <td>3067.0</td>\n",
       "      <td>4019.0</td>\n",
       "      <td>1</td>\n",
       "      <td>0</td>\n",
       "      <td>0</td>\n",
       "    </tr>\n",
       "    <tr>\n",
       "      <th>4</th>\n",
       "      <td>3</td>\n",
       "      <td>1465000.0</td>\n",
       "      <td>2.5</td>\n",
       "      <td>3067.0</td>\n",
       "      <td>4019.0</td>\n",
       "      <td>1</td>\n",
       "      <td>0</td>\n",
       "      <td>0</td>\n",
       "    </tr>\n",
       "    <tr>\n",
       "      <th>5</th>\n",
       "      <td>3</td>\n",
       "      <td>850000.0</td>\n",
       "      <td>2.5</td>\n",
       "      <td>3067.0</td>\n",
       "      <td>4019.0</td>\n",
       "      <td>1</td>\n",
       "      <td>0</td>\n",
       "      <td>0</td>\n",
       "    </tr>\n",
       "    <tr>\n",
       "      <th>6</th>\n",
       "      <td>4</td>\n",
       "      <td>1600000.0</td>\n",
       "      <td>2.5</td>\n",
       "      <td>3067.0</td>\n",
       "      <td>4019.0</td>\n",
       "      <td>1</td>\n",
       "      <td>0</td>\n",
       "      <td>0</td>\n",
       "    </tr>\n",
       "  </tbody>\n",
       "</table>\n",
       "</div>"
      ],
      "text/plain": [
       "   Rooms      Price  Distance  Postcode  Propertycount  h  t  u\n",
       "1      2  1480000.0       2.5    3067.0         4019.0  1  0  0\n",
       "2      2  1035000.0       2.5    3067.0         4019.0  1  0  0\n",
       "4      3  1465000.0       2.5    3067.0         4019.0  1  0  0\n",
       "5      3   850000.0       2.5    3067.0         4019.0  1  0  0\n",
       "6      4  1600000.0       2.5    3067.0         4019.0  1  0  0"
      ]
     },
     "execution_count": 9,
     "metadata": {},
     "output_type": "execute_result"
    }
   ],
   "source": [
    "import pandas as pd\n",
    "\n",
    "encondedType = pd.get_dummies(housing.Type)\n",
    "housing = pd.concat([housing, encondedType], axis=1)\n",
    "housing.drop(['Type'], inplace=True, axis=1)\n",
    "housing.head()"
   ]
  },
  {
   "cell_type": "markdown",
   "id": "racial-excess",
   "metadata": {},
   "source": [
    "After looking into the scattered plot for Price and Rooms, I noticed a fewe weird points with 11 or more rooms:"
   ]
  },
  {
   "cell_type": "code",
   "execution_count": 10,
   "id": "cellular-blogger",
   "metadata": {},
   "outputs": [
    {
     "data": {
      "text/plain": [
       "<AxesSubplot:xlabel='Rooms', ylabel='Price'>"
      ]
     },
     "execution_count": 10,
     "metadata": {},
     "output_type": "execute_result"
    },
    {
     "data": {
      "image/png": "[encoded data removed]",
      "text/plain": [
       "<Figure size 432x288 with 1 Axes>"
      ]
     },
     "metadata": {
      "needs_background": "light"
     },
     "output_type": "display_data"
    }
   ],
   "source": [
    "housing.plot(kind=\"scatter\", x=\"Rooms\", y=\"Price\", alpha=0.1)"
   ]
  },
  {
   "cell_type": "markdown",
   "id": "amber-xerox",
   "metadata": {},
   "source": [
    "I assume then that my model will not predict prices for houses with 11 or more rooms, therefore I will drop those rows:"
   ]
  },
  {
   "cell_type": "code",
   "execution_count": 11,
   "id": "double-ebony",
   "metadata": {},
   "outputs": [],
   "source": [
    "index = housing[housing['Rooms'] >= 11].index\n",
    "housing.drop(index, inplace=True)"
   ]
  },
  {
   "cell_type": "markdown",
   "id": "protected-knowing",
   "metadata": {},
   "source": [
    "Another improvement we could make is to remove price outliers, especially those rows with a price greater than 8M:"
   ]
  },
  {
   "cell_type": "code",
   "execution_count": 12,
   "id": "roman-antigua",
   "metadata": {},
   "outputs": [],
   "source": [
    "index = housing[housing['Price'] > 8000000].index\n",
    "housing.drop(index, inplace=True)"
   ]
  },
  {
   "cell_type": "markdown",
   "id": "congressional-bryan",
   "metadata": {},
   "source": [
    "Now it is time to prepare training set and test set; I will split them in 80-20 ratio and prepare also the training feature and the corresponding target prices."
   ]
  },
  {
   "cell_type": "code",
   "execution_count": 13,
   "id": "exciting-exercise",
   "metadata": {},
   "outputs": [],
   "source": [
    "from sklearn.model_selection import train_test_split\n",
    "\n",
    "training_set, test_set = train_test_split(housing, test_size=0.2, random_state=42)\n",
    "training_housing_features = training_set.drop('Price', axis=1)\n",
    "training_housing_prices = training_set['Price'].copy()\n",
    "test_housing_features = test_set.drop('Price', axis=1)\n",
    "test_housing_prices = test_set['Price'].copy()"
   ]
  },
  {
   "cell_type": "markdown",
   "id": "stock-nowhere",
   "metadata": {},
   "source": [
    "First attempt of linear regression by using SVD:"
   ]
  },
  {
   "cell_type": "code",
   "execution_count": 14,
   "id": "known-tampa",
   "metadata": {},
   "outputs": [
    {
     "data": {
      "text/plain": [
       "LinearRegression()"
      ]
     },
     "execution_count": 14,
     "metadata": {},
     "output_type": "execute_result"
    }
   ],
   "source": [
    "from sklearn.linear_model import LinearRegression\n",
    "\n",
    "linear_regression = LinearRegression()\n",
    "linear_regression.fit(training_housing_features, training_housing_prices)"
   ]
  },
  {
   "cell_type": "markdown",
   "id": "awful-space",
   "metadata": {},
   "source": [
    "Let's now check for the SVD linear regression performs against the test set:"
   ]
  },
  {
   "cell_type": "code",
   "execution_count": 21,
   "id": "suspected-shoot",
   "metadata": {},
   "outputs": [
    {
     "name": "stdout",
     "output_type": "stream",
     "text": [
      "493697.4783453057\n"
     ]
    },
    {
     "data": {
      "text/plain": [
       "['linear_regression.model']"
      ]
     },
     "execution_count": 21,
     "metadata": {},
     "output_type": "execute_result"
    }
   ],
   "source": [
    "from sklearn.metrics import mean_squared_error\n",
    "import numpy as np\n",
    "\n",
    "test_housing_predictions = linear_regression.predict(test_housing_features)\n",
    "linear_regression_mse = mean_squared_error(test_housing_prices, test_housing_predictions)\n",
    "linear_regression_rmse = np.sqrt(linear_regression_mse)\n",
    "print(str(linear_regression_rmse))"
   ]
  },
  {
   "cell_type": "markdown",
   "id": "short-leave",
   "metadata": {},
   "source": [
    "Well, the error is around 0.5M, quite a lot!\n",
    "\n",
    "Perhaps SVD was overfitting the training set and we might be able to achieve a better result by using a regularized linear model.\n",
    "\n",
    "Since regularized linear models are using SGD, we need first to scale the training set by using the StandardScaler. The test set will run through the same scaler but without participating in deciding mean and standard deviation."
   ]
  },
  {
   "cell_type": "code",
   "execution_count": 16,
   "id": "valuable-suffering",
   "metadata": {},
   "outputs": [],
   "source": [
    "from sklearn.preprocessing import StandardScaler\n",
    "\n",
    "feature_scaler = (StandardScaler()).fit(training_housing_features)\n",
    "scaled_training_housing_features = feature_scaler.transform(training_housing_features)\n",
    "\n",
    "price_scaler = (StandardScaler()).fit(training_housing_prices.values.reshape(-1,1))\n",
    "scaled_training_housing_prices = price_scaler.transform(training_housing_prices.values.reshape(-1,1))\n",
    "\n",
    "scaled_test_housing_features = feature_scaler.transform(test_housing_features)\n",
    "scaled_test_housing_prices = price_scaler.transform(test_housing_prices.values.reshape(-1,1))"
   ]
  },
  {
   "cell_type": "markdown",
   "id": "median-instrument",
   "metadata": {},
   "source": [
    "Let's now use ElasticNet with different values for its parameters alpha and l1_ratio"
   ]
  },
  {
   "cell_type": "code",
   "execution_count": 22,
   "id": "dried-violin",
   "metadata": {},
   "outputs": [
    {
     "name": "stdout",
     "output_type": "stream",
     "text": [
      "l1_ratio = 0.1; alpha = 0.01; rmse = 493909.0782773401\n",
      "l1_ratio = 0.1; alpha = 0.1; rmse = 499153.5822274606\n",
      "l1_ratio = 0.1; alpha = 1; rmse = 570260.6843483079\n",
      "l1_ratio = 0.1; alpha = 10; rmse = 646400.5614867874\n",
      "l1_ratio = 0.5; alpha = 0.01; rmse = 494139.2571191287\n",
      "l1_ratio = 0.5; alpha = 0.1; rmse = 506926.582014256\n",
      "l1_ratio = 0.5; alpha = 1; rmse = 646400.5614867874\n",
      "l1_ratio = 0.5; alpha = 10; rmse = 646400.5614867874\n",
      "l1_ratio = 0.7; alpha = 0.01; rmse = 494274.1091233907\n",
      "l1_ratio = 0.7; alpha = 0.1; rmse = 512588.88070165383\n",
      "l1_ratio = 0.7; alpha = 1; rmse = 646400.5614867874\n",
      "l1_ratio = 0.7; alpha = 10; rmse = 646400.5614867874\n",
      "l1_ratio = 0.9; alpha = 0.01; rmse = 494422.4265241767\n",
      "l1_ratio = 0.9; alpha = 0.1; rmse = 519802.22890113504\n",
      "l1_ratio = 0.9; alpha = 1; rmse = 646400.5614867874\n",
      "l1_ratio = 0.9; alpha = 10; rmse = 646400.5614867874\n",
      "l1_ratio = 0.95; alpha = 0.01; rmse = 494461.65480079455\n",
      "l1_ratio = 0.95; alpha = 0.1; rmse = 521877.70392569894\n",
      "l1_ratio = 0.95; alpha = 1; rmse = 646400.5614867874\n",
      "l1_ratio = 0.95; alpha = 10; rmse = 646400.5614867874\n",
      "l1_ratio = 0.99; alpha = 0.01; rmse = 494493.6284551575\n",
      "l1_ratio = 0.99; alpha = 0.1; rmse = 523622.58579271974\n",
      "l1_ratio = 0.99; alpha = 1; rmse = 646400.5614867874\n",
      "l1_ratio = 0.99; alpha = 10; rmse = 646400.5614867874\n",
      "l1_ratio = 1; alpha = 0.01; rmse = 494501.71596889774\n",
      "l1_ratio = 1; alpha = 0.1; rmse = 524070.8553426978\n",
      "l1_ratio = 1; alpha = 1; rmse = 646400.5614867874\n",
      "l1_ratio = 1; alpha = 10; rmse = 646400.5614867874\n"
     ]
    }
   ],
   "source": [
    "from sklearn.linear_model import ElasticNet\n",
    "from sklearn.metrics import mean_squared_error\n",
    "import numpy as np\n",
    "\n",
    "for current_l1_ratio in [0.1, 0.5, 0.7, 0.9, 0.95, 0.99, 1]:\n",
    "    for current_alpha in [0.01, 0.1, 1, 10]:\n",
    "        elastic_net = ElasticNet(alpha=current_alpha, l1_ratio=current_l1_ratio)\n",
    "        elastic_net.fit(scaled_training_housing_features, scaled_training_housing_prices)\n",
    "        \n",
    "        scaled_test_housing_predictions = elastic_net.predict(scaled_test_housing_features)\n",
    "        test_housing_predictions = price_scaler.inverse_transform(scaled_test_housing_predictions)\n",
    "        \n",
    "        elastic_net_mse = mean_squared_error(test_housing_prices, test_housing_predictions)\n",
    "        elastic_net_rmse = np.sqrt(elastic_net_mse)\n",
    "        print('l1_ratio = ' + str(current_l1_ratio) + '; alpha = ' + str(current_alpha) + '; rmse = ' + str(elastic_net_rmse))"
   ]
  },
  {
   "cell_type": "markdown",
   "id": "elementary-connecticut",
   "metadata": {},
   "source": [
    "The first combination of parameter values is providing the lowest rmse but still it is not as good as SVD.\n",
    "\n",
    "Just out of curiosity, let's check what a polynomial regression can provide in terms of RMSE:"
   ]
  },
  {
   "cell_type": "code",
   "execution_count": 18,
   "id": "respiratory-species",
   "metadata": {},
   "outputs": [
    {
     "name": "stdout",
     "output_type": "stream",
     "text": [
      "Degree = 2; rmse = 428659.0393608111\n",
      "Degree = 3; rmse = 420387.4406687108\n",
      "Degree = 4; rmse = 452563.13080652914\n",
      "Degree = 5; rmse = 484350.2588487776\n",
      "Degree = 6; rmse = 593672.337002067\n"
     ]
    }
   ],
   "source": [
    "from sklearn.preprocessing import PolynomialFeatures\n",
    "from sklearn.linear_model import LinearRegression\n",
    "from sklearn.metrics import mean_squared_error\n",
    "import numpy as np\n",
    "\n",
    "for current_degree in range(2, 7):\n",
    "    polynomial_features = PolynomialFeatures(degree=current_degree, include_bias=False)\n",
    "    polynomial_training_housing_features = polynomial_features.fit_transform(training_housing_features)\n",
    "\n",
    "    polynomial_linear_regression = LinearRegression()\n",
    "    polynomial_linear_regression.fit(polynomial_training_housing_features, training_housing_prices)\n",
    "\n",
    "    polynomial_test_housing_features = polynomial_features.fit_transform(test_housing_features)\n",
    "    polynomial_test_housing_predictions = polynomial_linear_regression.predict(polynomial_test_housing_features)\n",
    "    polynomial_linear_regression_mse = mean_squared_error(test_housing_prices, polynomial_test_housing_predictions)\n",
    "    polynomial_linear_regression_rmse = np.sqrt(polynomial_linear_regression_mse)\n",
    "    print('Degree = ' + str(current_degree) + '; rmse = ' + str(polynomial_linear_regression_rmse))\n"
   ]
  },
  {
   "cell_type": "markdown",
   "id": "straight-leadership",
   "metadata": {},
   "source": [
    "Interesting! We have found a better result with a 3rd degree polynomial regressor.\n",
    "\n",
    "I want now to check with decision trees what we can get as accuracy by varying the max depth:"
   ]
  },
  {
   "cell_type": "code",
   "execution_count": 19,
   "id": "convertible-disease",
   "metadata": {
    "scrolled": true
   },
   "outputs": [
    {
     "name": "stdout",
     "output_type": "stream",
     "text": [
      "Depth = 2; leaf samples = 10; rmse = 539536.7163010602\n",
      "Depth = 2; leaf samples = 100; rmse = 539536.7163010602\n",
      "Depth = 2; leaf samples = 500; rmse = 539536.7163010602\n",
      "Depth = 2; leaf samples = 1000; rmse = 539536.7163010602\n",
      "Depth = 3; leaf samples = 10; rmse = 476271.94958388223\n",
      "Depth = 3; leaf samples = 100; rmse = 476271.94958388223\n",
      "Depth = 3; leaf samples = 500; rmse = 476271.94958388223\n",
      "Depth = 3; leaf samples = 1000; rmse = 478102.21113383\n",
      "Depth = 5; leaf samples = 10; rmse = 392402.67250488355\n",
      "Depth = 5; leaf samples = 100; rmse = 391885.97032805916\n",
      "Depth = 5; leaf samples = 500; rmse = 408727.9491984316\n",
      "Depth = 5; leaf samples = 1000; rmse = 434547.0483493206\n",
      "Depth = 7; leaf samples = 10; rmse = 368895.38209984085\n",
      "Depth = 7; leaf samples = 100; rmse = 369561.3829098239\n",
      "Depth = 7; leaf samples = 500; rmse = 403162.75761297124\n",
      "Depth = 7; leaf samples = 1000; rmse = 433574.86535895255\n",
      "Depth = 10; leaf samples = 10; rmse = 340809.7159311701\n",
      "Depth = 10; leaf samples = 100; rmse = 361591.11914856697\n",
      "Depth = 10; leaf samples = 500; rmse = 403171.44880536443\n",
      "Depth = 10; leaf samples = 1000; rmse = 433574.86535895255\n",
      "Depth = 15; leaf samples = 10; rmse = 337545.271009\n",
      "Depth = 15; leaf samples = 100; rmse = 361337.1394208423\n",
      "Depth = 15; leaf samples = 500; rmse = 403171.44880536443\n",
      "Depth = 15; leaf samples = 1000; rmse = 433574.86535895255\n",
      "Depth = 20; leaf samples = 10; rmse = 337530.4902773348\n",
      "Depth = 20; leaf samples = 100; rmse = 361337.1394208423\n",
      "Depth = 20; leaf samples = 500; rmse = 403171.44880536443\n",
      "Depth = 20; leaf samples = 1000; rmse = 433574.86535895255\n"
     ]
    }
   ],
   "source": [
    "from sklearn.tree import DecisionTreeRegressor\n",
    "from sklearn.metrics import mean_squared_error\n",
    "import numpy as np\n",
    "\n",
    "for current_max_depth in [2, 3, 5, 7, 10, 15, 20]:\n",
    "    for current_min_samples_leaf in [10, 100, 500, 1000]:\n",
    "        decision_tree_regression = DecisionTreeRegressor(max_depth=current_max_depth, min_samples_leaf=current_min_samples_leaf)\n",
    "        decision_tree_regression.fit(training_housing_features, training_housing_prices)\n",
    "\n",
    "        decision_tree_test_housing_predictions = decision_tree_regression.predict(test_housing_features)\n",
    "        decision_tree_mse = mean_squared_error(test_housing_prices, decision_tree_test_housing_predictions)\n",
    "        decision_tree_rmse = np.sqrt(decision_tree_mse)\n",
    "        print('Depth = ' + str(current_max_depth) + '; leaf samples = ' + str(current_min_samples_leaf) + '; rmse = ' + str(decision_tree_rmse))"
   ]
  },
  {
   "cell_type": "markdown",
   "id": "separated-firmware",
   "metadata": {},
   "source": [
    "It looks like that with a depth = 20 and min_samples_leaf = 10 we got a very good result. What about RandomForestRegressor?"
   ]
  },
  {
   "cell_type": "code",
   "execution_count": 23,
   "id": "pending-radiation",
   "metadata": {},
   "outputs": [
    {
     "name": "stdout",
     "output_type": "stream",
     "text": [
      "N. estimators = 10; rmse = 336913.1443992009\n",
      "N. estimators = 100; rmse = 334807.7431563771\n",
      "N. estimators = 500; rmse = 334132.2846128307\n",
      "N. estimators = 1000; rmse = 334029.190395628\n"
     ]
    }
   ],
   "source": [
    "from sklearn.ensemble import RandomForestRegressor\n",
    "from sklearn.metrics import mean_squared_error\n",
    "import numpy as np\n",
    "\n",
    "for current_n_estimators in [10, 100, 500, 1000]:\n",
    "    random_forest_regression = RandomForestRegressor(n_estimators=current_n_estimators, max_depth=20, min_samples_leaf=10, n_jobs=-1)\n",
    "    random_forest_regression.fit(training_housing_features, training_housing_prices)\n",
    "\n",
    "    random_forest_test_housing_predictions = random_forest_regression.predict(test_housing_features)\n",
    "    random_forest_mse = mean_squared_error(test_housing_prices, random_forest_test_housing_predictions)\n",
    "    random_forest_rmse = np.sqrt(random_forest_mse)\n",
    "    print('N. estimators = ' + str(current_n_estimators) + '; rmse = ' + str(random_forest_rmse))"
   ]
  },
  {
   "cell_type": "markdown",
   "id": "specific-legislation",
   "metadata": {},
   "source": [
    "With 100 estimators the result has even improved!"
   ]
  },
  {
   "cell_type": "code",
   "execution_count": null,
   "id": "structured-aviation",
   "metadata": {},
   "outputs": [],
   "source": []
  }
 ],
 "metadata": {
  "kernelspec": {
   "display_name": "Python 3",
   "language": "python",
   "name": "python3"
  },
  "language_info": {
   "codemirror_mode": {
    "name": "ipython",
    "version": 3
   },
   "file_extension": ".py",
   "mimetype": "text/x-python",
   "name": "python",
   "nbconvert_exporter": "python",
   "pygments_lexer": "ipython3",
   "version": "3.6.9"
  }
 },
 "nbformat": 4,
 "nbformat_minor": 5
}
